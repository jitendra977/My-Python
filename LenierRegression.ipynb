{
  "nbformat": 4,
  "nbformat_minor": 0,
  "metadata": {
    "colab": {
      "name": "LenierRegression.ipynb",
      "provenance": [],
      "private_outputs": true,
      "authorship_tag": "ABX9TyNJNcSoSYL1EM5RvzpnbEu1",
      "include_colab_link": true
    },
    "kernelspec": {
      "name": "python3",
      "display_name": "Python 3"
    },
    "accelerator": "GPU"
  },
  "cells": [
    {
      "cell_type": "markdown",
      "metadata": {
        "id": "view-in-github",
        "colab_type": "text"
      },
      "source": [
        "<a href=\"https://colab.research.google.com/github/jitendra977/My-Python/blob/master/LenierRegression.ipynb\" target=\"_parent\"><img src=\"https://colab.research.google.com/assets/colab-badge.svg\" alt=\"Open In Colab\"/></a>"
      ]
    },
    {
      "cell_type": "code",
      "metadata": {
        "id": "eZCNDAFu6Z2u"
      },
      "source": [
        "import matplotlib as plt \n",
        "import numpy as np \n",
        "from sklearn import datasets,linear_model"
      ],
      "execution_count": null,
      "outputs": []
    },
    {
      "cell_type": "code",
      "metadata": {
        "id": "vvu7iuxn7npP"
      },
      "source": [
        "dibites  = datasets.load_diabetes()\n"
      ],
      "execution_count": null,
      "outputs": []
    },
    {
      "cell_type": "code",
      "metadata": {
        "id": "E2ecu0Ep8Swc"
      },
      "source": [
        "dibites_X=dibites.data[:,np.newaxis,2]"
      ],
      "execution_count": null,
      "outputs": []
    },
    {
      "cell_type": "code",
      "metadata": {
        "id": "fxpwJ1PS9kQw"
      },
      "source": [
        "dibites_X_train= dibites_X[:-30]\n",
        "dibites_X_test = dibites_X[-30:]"
      ],
      "execution_count": null,
      "outputs": []
    },
    {
      "cell_type": "code",
      "metadata": {
        "id": "ahkhMDinACUX"
      },
      "source": [
        "dibites_y_train= dibites_y[:-30]\n",
        "dibites_y_test = dibites_y[-30:]"
      ],
      "execution_count": null,
      "outputs": []
    }
  ]
}